{
 "cells": [
  {
   "cell_type": "markdown",
   "id": "f4090698",
   "metadata": {},
   "source": [
    "# 파이토치 MNIST 모델\n",
    "## mnist 데이터 셋"
   ]
  },
  {
   "cell_type": "markdown",
   "id": "2abbcb56",
   "metadata": {},
   "source": [
    "**볼드**__신기__*하네*_wow_~~취소~~<u>언더바</u>"
   ]
  },
  {
   "cell_type": "markdown",
   "id": "1b7b9122",
   "metadata": {},
   "source": [
    "> 인용"
   ]
  },
  {
   "cell_type": "markdown",
   "id": "f36cebd3",
   "metadata": {},
   "source": [
    "[출처](https://www.youtube.com/watch?v=wb4F1aeZtRA)"
   ]
  },
  {
   "cell_type": "markdown",
   "id": "9bcdcc4f",
   "metadata": {},
   "source": [
    "---"
   ]
  },
  {
   "cell_type": "markdown",
   "id": "818e8a11",
   "metadata": {},
   "source": [
    "'inline code'"
   ]
  },
  {
   "cell_type": "code",
   "execution_count": null,
   "id": "ce81c86f",
   "metadata": {},
   "outputs": [],
   "source": []
  }
 ],
 "metadata": {
  "kernelspec": {
   "display_name": "Python 3",
   "language": "python",
   "name": "python3"
  },
  "language_info": {
   "codemirror_mode": {
    "name": "ipython",
    "version": 3
   },
   "file_extension": ".py",
   "mimetype": "text/x-python",
   "name": "python",
   "nbconvert_exporter": "python",
   "pygments_lexer": "ipython3",
   "version": "3.8.10"
  },
  "varInspector": {
   "cols": {
    "lenName": 16,
    "lenType": 16,
    "lenVar": 40
   },
   "kernels_config": {
    "python": {
     "delete_cmd_postfix": "",
     "delete_cmd_prefix": "del ",
     "library": "var_list.py",
     "varRefreshCmd": "print(var_dic_list())"
    },
    "r": {
     "delete_cmd_postfix": ") ",
     "delete_cmd_prefix": "rm(",
     "library": "var_list.r",
     "varRefreshCmd": "cat(var_dic_list()) "
    }
   },
   "types_to_exclude": [
    "module",
    "function",
    "builtin_function_or_method",
    "instance",
    "_Feature"
   ],
   "window_display": false
  }
 },
 "nbformat": 4,
 "nbformat_minor": 5
}
