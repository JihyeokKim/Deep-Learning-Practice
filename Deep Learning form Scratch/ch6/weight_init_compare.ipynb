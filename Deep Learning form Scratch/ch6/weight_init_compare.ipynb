{
 "cells": [
  {
   "cell_type": "code",
   "execution_count": 1,
   "id": "a541e68b",
   "metadata": {},
   "outputs": [],
   "source": [
    "import os\n",
    "import sys\n",
    "\n",
    "sys.path.append(os.pardir)  # 부모 디렉터리의 파일을 가져올 수 있도록 설정\n",
    "import numpy as np\n",
    "import matplotlib.pyplot as plt\n",
    "from dataset.mnist import load_mnist\n",
    "from common.util import smooth_curve\n",
    "from common.multi_layer_net import MultiLayerNet\n",
    "from common.optimizer import SGD"
   ]
  },
  {
   "cell_type": "code",
   "execution_count": 2,
   "id": "4ea2aa72",
   "metadata": {},
   "outputs": [],
   "source": [
    "# 0. MNIST 데이터 읽기==========\n",
    "(x_train, t_train), (x_test, t_test) = load_mnist(normalize=True)\n",
    "\n",
    "train_size = x_train.shape[0]\n",
    "batch_size = 128\n",
    "max_iterations = 2000"
   ]
  },
  {
   "cell_type": "code",
   "execution_count": 3,
   "id": "dc81d7a5",
   "metadata": {},
   "outputs": [],
   "source": [
    "# 1. 실험용 설정==========\n",
    "weight_init_types = {'std=0.01': 0.01, 'Xavier': 'sigmoid', 'He': 'relu'}\n",
    "optimizer = SGD(lr=0.01)\n",
    "\n",
    "networks = {}\n",
    "train_loss = {}\n",
    "for key, weight_type in weight_init_types.items():\n",
    "    networks[key] = MultiLayerNet(input_size=784, hidden_size_list=[100, 100, 100, 100],\n",
    "                                  output_size=10, weight_init_std=weight_type)\n",
    "    train_loss[key] = []"
   ]
  },
  {
   "cell_type": "code",
   "execution_count": 4,
   "id": "d9f1a43f",
   "metadata": {},
   "outputs": [
    {
     "name": "stdout",
     "output_type": "stream",
     "text": [
      "===========iteration:0===========\n",
      "std=0.01:2.3024728931320873\n",
      "Xavier:2.278905145676517\n",
      "He:2.375052756065323\n",
      "===========iteration:100===========\n",
      "std=0.01:2.3032174586296543\n",
      "Xavier:2.2551998908447386\n",
      "He:1.6791641758061713\n",
      "===========iteration:200===========\n",
      "std=0.01:2.301073585656236\n",
      "Xavier:2.0964637861370607\n",
      "He:0.8119825318701978\n",
      "===========iteration:300===========\n",
      "std=0.01:2.3017733578702\n",
      "Xavier:1.786788128917285\n",
      "He:0.6092940331847387\n",
      "===========iteration:400===========\n",
      "std=0.01:2.3038075612108777\n",
      "Xavier:1.3837746974141685\n",
      "He:0.659300757051595\n",
      "===========iteration:500===========\n",
      "std=0.01:2.301939082726434\n",
      "Xavier:1.0611092358246967\n",
      "He:0.5044045495246197\n",
      "===========iteration:600===========\n",
      "std=0.01:2.3015624900713503\n",
      "Xavier:0.6977978609473412\n",
      "He:0.3653032057287816\n",
      "===========iteration:700===========\n",
      "std=0.01:2.3028467378517856\n",
      "Xavier:0.5706985678149337\n",
      "He:0.24706566944561054\n",
      "===========iteration:800===========\n",
      "std=0.01:2.29745665556148\n",
      "Xavier:0.5586058774376417\n",
      "He:0.3437684009214177\n",
      "===========iteration:900===========\n",
      "std=0.01:2.3016908991515725\n",
      "Xavier:0.4100162947105619\n",
      "He:0.28601326911128455\n",
      "===========iteration:1000===========\n",
      "std=0.01:2.2986145637450646\n",
      "Xavier:0.3621788766520731\n",
      "He:0.2275246392510455\n",
      "===========iteration:1100===========\n",
      "std=0.01:2.3034761180875094\n",
      "Xavier:0.4238167238377887\n",
      "He:0.2783555354588245\n",
      "===========iteration:1200===========\n",
      "std=0.01:2.304180989023406\n",
      "Xavier:0.4749102107699664\n",
      "He:0.33666515557141197\n",
      "===========iteration:1300===========\n",
      "std=0.01:2.2969370184205755\n",
      "Xavier:0.3227399469318635\n",
      "He:0.23615415367398307\n",
      "===========iteration:1400===========\n",
      "std=0.01:2.2949512082849886\n",
      "Xavier:0.2718956176779949\n",
      "He:0.14148232271007943\n",
      "===========iteration:1500===========\n",
      "std=0.01:2.2997691288469513\n",
      "Xavier:0.39995973459987183\n",
      "He:0.32016149574344044\n",
      "===========iteration:1600===========\n",
      "std=0.01:2.301240329648803\n",
      "Xavier:0.32727611911403026\n",
      "He:0.22340080031456078\n",
      "===========iteration:1700===========\n",
      "std=0.01:2.302424034746647\n",
      "Xavier:0.2294579452108819\n",
      "He:0.15122342724684776\n",
      "===========iteration:1800===========\n",
      "std=0.01:2.3002302114802493\n",
      "Xavier:0.23136288985002712\n",
      "He:0.14542189897115826\n",
      "===========iteration:1900===========\n",
      "std=0.01:2.301850683275735\n",
      "Xavier:0.2378366758577541\n",
      "He:0.1276804298637407\n"
     ]
    }
   ],
   "source": [
    "# 2. 훈련 시작==========\n",
    "for i in range(max_iterations):\n",
    "    batch_mask = np.random.choice(train_size, batch_size)\n",
    "    x_batch = x_train[batch_mask]\n",
    "    t_batch = t_train[batch_mask]\n",
    "    \n",
    "    for key in weight_init_types.keys():\n",
    "        grads = networks[key].gradient(x_batch, t_batch)\n",
    "        optimizer.update(networks[key].params, grads)\n",
    "    \n",
    "        loss = networks[key].loss(x_batch, t_batch)\n",
    "        train_loss[key].append(loss)\n",
    "    \n",
    "    if i % 100 == 0:\n",
    "        print(\"===========\" + \"iteration:\" + str(i) + \"===========\")\n",
    "        for key in weight_init_types.keys():\n",
    "            loss = networks[key].loss(x_batch, t_batch)\n",
    "            print(key + \":\" + str(loss))"
   ]
  },
  {
   "cell_type": "code",
   "execution_count": 5,
   "id": "dda51190",
   "metadata": {},
   "outputs": [
    {
     "data": {
      "image/png": "[encoded data removed]",
      "text/plain": [
       "<Figure size 432x288 with 1 Axes>"
      ]
     },
     "metadata": {
      "needs_background": "light"
     },
     "output_type": "display_data"
    }
   ],
   "source": [
    "# 3. 그래프 그리기==========\n",
    "markers = {'std=0.01': 'o', 'Xavier': 's', 'He': 'D'}\n",
    "x = np.arange(max_iterations)\n",
    "for key in weight_init_types.keys():\n",
    "    plt.plot(x, smooth_curve(train_loss[key]), marker=markers[key], markevery=100, label=key)\n",
    "plt.xlabel(\"iterations\")\n",
    "plt.ylabel(\"loss\")\n",
    "plt.ylim(0, 2.5)\n",
    "plt.legend()\n",
    "plt.show()"
   ]
  },
  {
   "cell_type": "code",
   "execution_count": null,
   "id": "69511f8a",
   "metadata": {},
   "outputs": [],
   "source": []
  }
 ],
 "metadata": {
  "kernelspec": {
   "display_name": "Python 3",
   "language": "python",
   "name": "python3"
  },
  "language_info": {
   "codemirror_mode": {
    "name": "ipython",
    "version": 3
   },
   "file_extension": ".py",
   "mimetype": "text/x-python",
   "name": "python",
   "nbconvert_exporter": "python",
   "pygments_lexer": "ipython3",
   "version": "3.8.8"
  }
 },
 "nbformat": 4,
 "nbformat_minor": 5
}
