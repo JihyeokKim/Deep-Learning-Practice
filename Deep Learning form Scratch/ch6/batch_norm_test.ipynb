{
 "cells": [
  {
   "cell_type": "code",
   "execution_count": 1,
   "id": "291b6206",
   "metadata": {},
   "outputs": [],
   "source": [
    "import sys, os\n",
    "sys.path.append(os.pardir)  # 부모 디렉터리의 파일을 가져올 수 있도록 설정\n",
    "import numpy as np\n",
    "import matplotlib.pyplot as plt\n",
    "from dataset.mnist import load_mnist\n",
    "from common.multi_layer_net_extend import MultiLayerNetExtend\n",
    "from common.optimizer import SGD, Adam\n",
    "\n",
    "(x_train, t_train), (x_test, t_test) = load_mnist(normalize=True)"
   ]
  },
  {
   "cell_type": "code",
   "execution_count": 2,
   "id": "bc6fe816",
   "metadata": {},
   "outputs": [],
   "source": [
    "# 학습 데이터를 줄임\n",
    "x_train = x_train[:1000]\n",
    "t_train = t_train[:1000]\n",
    "\n",
    "max_epochs = 20\n",
    "train_size = x_train.shape[0]\n",
    "batch_size = 100\n",
    "learning_rate = 0.01"
   ]
  },
  {
   "cell_type": "code",
   "execution_count": 3,
   "id": "7f0c015b",
   "metadata": {},
   "outputs": [],
   "source": [
    "def __train(weight_init_std):\n",
    "    bn_network = MultiLayerNetExtend(input_size=784, hidden_size_list=[100, 100, 100, 100, 100], output_size=10, \n",
    "                                    weight_init_std=weight_init_std, use_batchnorm=True)\n",
    "    network = MultiLayerNetExtend(input_size=784, hidden_size_list=[100, 100, 100, 100, 100], output_size=10,\n",
    "                                weight_init_std=weight_init_std)\n",
    "    optimizer = SGD(lr=learning_rate)\n",
    "    \n",
    "    train_acc_list = []\n",
    "    bn_train_acc_list = []\n",
    "    \n",
    "    iter_per_epoch = max(train_size / batch_size, 1)\n",
    "    epoch_cnt = 0\n",
    "    \n",
    "    for i in range(1000000000):\n",
    "        batch_mask = np.random.choice(train_size, batch_size)\n",
    "        x_batch = x_train[batch_mask]\n",
    "        t_batch = t_train[batch_mask]\n",
    "    \n",
    "        for _network in (bn_network, network):\n",
    "            grads = _network.gradient(x_batch, t_batch)\n",
    "            optimizer.update(_network.params, grads)\n",
    "    \n",
    "        if i % iter_per_epoch == 0:\n",
    "            train_acc = network.accuracy(x_train, t_train)\n",
    "            bn_train_acc = bn_network.accuracy(x_train, t_train)\n",
    "            train_acc_list.append(train_acc)\n",
    "            bn_train_acc_list.append(bn_train_acc)\n",
    "    \n",
    "            print(\"epoch:\" + str(epoch_cnt) + \" | \" + str(train_acc) + \" - \" + str(bn_train_acc))\n",
    "    \n",
    "            epoch_cnt += 1\n",
    "            if epoch_cnt >= max_epochs:\n",
    "                break\n",
    "                \n",
    "    return train_acc_list, bn_train_acc_list"
   ]
  },
  {
   "cell_type": "code",
   "execution_count": 4,
   "id": "24b3b8af",
   "metadata": {},
   "outputs": [
    {
     "name": "stdout",
     "output_type": "stream",
     "text": [
      "============== 1/16 ==============\n",
      "epoch:0 | 0.099 - 0.063\n"
     ]
    },
    {
     "name": "stderr",
     "output_type": "stream",
     "text": [
      "..\\common\\functions.py:34: RuntimeWarning: invalid value encountered in subtract\n",
      "  x = x - np.max(x, axis=0)\n"
     ]
    },
    {
     "name": "stdout",
     "output_type": "stream",
     "text": [
      "epoch:1 | 0.097 - 0.068\n",
      "epoch:2 | 0.097 - 0.117\n",
      "epoch:3 | 0.097 - 0.145\n",
      "epoch:4 | 0.097 - 0.165\n",
      "epoch:5 | 0.097 - 0.196\n",
      "epoch:6 | 0.097 - 0.218\n",
      "epoch:7 | 0.097 - 0.24\n",
      "epoch:8 | 0.097 - 0.268\n",
      "epoch:9 | 0.097 - 0.275\n",
      "epoch:10 | 0.097 - 0.302\n",
      "epoch:11 | 0.097 - 0.315\n",
      "epoch:12 | 0.097 - 0.337\n",
      "epoch:13 | 0.097 - 0.355\n",
      "epoch:14 | 0.097 - 0.378\n",
      "epoch:15 | 0.097 - 0.394\n",
      "epoch:16 | 0.097 - 0.397\n",
      "epoch:17 | 0.097 - 0.415\n",
      "epoch:18 | 0.097 - 0.425\n"
     ]
    },
    {
     "name": "stderr",
     "output_type": "stream",
     "text": [
      "No handles with labels found to put in legend.\n"
     ]
    },
    {
     "name": "stdout",
     "output_type": "stream",
     "text": [
      "epoch:19 | 0.097 - 0.439\n",
      "============== 2/16 ==============\n",
      "epoch:0 | 0.097 - 0.083\n"
     ]
    },
    {
     "name": "stderr",
     "output_type": "stream",
     "text": [
      "..\\common\\functions.py:34: RuntimeWarning: invalid value encountered in subtract\n",
      "  x = x - np.max(x, axis=0)\n"
     ]
    },
    {
     "name": "stdout",
     "output_type": "stream",
     "text": [
      "epoch:1 | 0.097 - 0.079\n",
      "epoch:2 | 0.097 - 0.107\n",
      "epoch:3 | 0.097 - 0.121\n",
      "epoch:4 | 0.097 - 0.147\n",
      "epoch:5 | 0.097 - 0.167\n",
      "epoch:6 | 0.097 - 0.207\n",
      "epoch:7 | 0.097 - 0.228\n",
      "epoch:8 | 0.097 - 0.246\n",
      "epoch:9 | 0.097 - 0.268\n",
      "epoch:10 | 0.097 - 0.292\n",
      "epoch:11 | 0.097 - 0.311\n",
      "epoch:12 | 0.097 - 0.332\n",
      "epoch:13 | 0.097 - 0.348\n",
      "epoch:14 | 0.097 - 0.378\n",
      "epoch:15 | 0.097 - 0.394\n",
      "epoch:16 | 0.097 - 0.403\n",
      "epoch:17 | 0.097 - 0.418\n",
      "epoch:18 | 0.097 - 0.439\n"
     ]
    },
    {
     "name": "stderr",
     "output_type": "stream",
     "text": [
      "No handles with labels found to put in legend.\n"
     ]
    },
    {
     "name": "stdout",
     "output_type": "stream",
     "text": [
      "epoch:19 | 0.097 - 0.449\n",
      "============== 3/16 ==============\n",
      "epoch:0 | 0.096 - 0.065\n",
      "epoch:1 | 0.28 - 0.085\n",
      "epoch:2 | 0.475 - 0.115\n",
      "epoch:3 | 0.579 - 0.144\n",
      "epoch:4 | 0.636 - 0.187\n",
      "epoch:5 | 0.699 - 0.219\n",
      "epoch:6 | 0.747 - 0.261\n",
      "epoch:7 | 0.773 - 0.293\n",
      "epoch:8 | 0.814 - 0.333\n",
      "epoch:9 | 0.841 - 0.371\n",
      "epoch:10 | 0.851 - 0.385\n",
      "epoch:11 | 0.884 - 0.422\n",
      "epoch:12 | 0.894 - 0.443\n",
      "epoch:13 | 0.898 - 0.47\n",
      "epoch:14 | 0.914 - 0.493\n",
      "epoch:15 | 0.921 - 0.515\n",
      "epoch:16 | 0.939 - 0.545\n",
      "epoch:17 | 0.941 - 0.56\n"
     ]
    },
    {
     "name": "stderr",
     "output_type": "stream",
     "text": [
      "No handles with labels found to put in legend.\n"
     ]
    },
    {
     "name": "stdout",
     "output_type": "stream",
     "text": [
      "epoch:18 | 0.949 - 0.577\n",
      "epoch:19 | 0.961 - 0.6\n",
      "============== 4/16 ==============\n",
      "epoch:0 | 0.145 - 0.089\n",
      "epoch:1 | 0.226 - 0.129\n",
      "epoch:2 | 0.372 - 0.178\n",
      "epoch:3 | 0.491 - 0.257\n",
      "epoch:4 | 0.575 - 0.326\n",
      "epoch:5 | 0.623 - 0.4\n",
      "epoch:6 | 0.668 - 0.454\n",
      "epoch:7 | 0.673 - 0.485\n",
      "epoch:8 | 0.71 - 0.543\n",
      "epoch:9 | 0.73 - 0.579\n",
      "epoch:10 | 0.747 - 0.608\n",
      "epoch:11 | 0.758 - 0.63\n",
      "epoch:12 | 0.775 - 0.663\n",
      "epoch:13 | 0.796 - 0.679\n",
      "epoch:14 | 0.807 - 0.701\n",
      "epoch:15 | 0.82 - 0.713\n",
      "epoch:16 | 0.83 - 0.733\n",
      "epoch:17 | 0.831 - 0.748\n"
     ]
    },
    {
     "name": "stderr",
     "output_type": "stream",
     "text": [
      "No handles with labels found to put in legend.\n"
     ]
    },
    {
     "name": "stdout",
     "output_type": "stream",
     "text": [
      "epoch:18 | 0.837 - 0.764\n",
      "epoch:19 | 0.844 - 0.776\n",
      "============== 5/16 ==============\n",
      "epoch:0 | 0.108 - 0.083\n",
      "epoch:1 | 0.111 - 0.153\n",
      "epoch:2 | 0.122 - 0.328\n",
      "epoch:3 | 0.122 - 0.461\n",
      "epoch:4 | 0.12 - 0.544\n",
      "epoch:5 | 0.125 - 0.603\n",
      "epoch:6 | 0.131 - 0.655\n",
      "epoch:7 | 0.147 - 0.693\n",
      "epoch:8 | 0.16 - 0.727\n",
      "epoch:9 | 0.168 - 0.757\n",
      "epoch:10 | 0.185 - 0.773\n",
      "epoch:11 | 0.198 - 0.789\n",
      "epoch:12 | 0.209 - 0.804\n",
      "epoch:13 | 0.229 - 0.826\n",
      "epoch:14 | 0.235 - 0.842\n",
      "epoch:15 | 0.238 - 0.855\n",
      "epoch:16 | 0.242 - 0.866\n",
      "epoch:17 | 0.255 - 0.875\n"
     ]
    },
    {
     "name": "stderr",
     "output_type": "stream",
     "text": [
      "No handles with labels found to put in legend.\n"
     ]
    },
    {
     "name": "stdout",
     "output_type": "stream",
     "text": [
      "epoch:18 | 0.266 - 0.879\n",
      "epoch:19 | 0.269 - 0.887\n",
      "============== 6/16 ==============\n",
      "epoch:0 | 0.089 - 0.105\n",
      "epoch:1 | 0.088 - 0.167\n",
      "epoch:2 | 0.116 - 0.386\n",
      "epoch:3 | 0.126 - 0.601\n",
      "epoch:4 | 0.107 - 0.703\n",
      "epoch:5 | 0.109 - 0.769\n",
      "epoch:6 | 0.117 - 0.801\n",
      "epoch:7 | 0.106 - 0.818\n",
      "epoch:8 | 0.112 - 0.834\n",
      "epoch:9 | 0.102 - 0.847\n",
      "epoch:10 | 0.11 - 0.862\n",
      "epoch:11 | 0.117 - 0.884\n",
      "epoch:12 | 0.117 - 0.9\n",
      "epoch:13 | 0.117 - 0.907\n",
      "epoch:14 | 0.109 - 0.916\n",
      "epoch:15 | 0.118 - 0.925\n",
      "epoch:16 | 0.114 - 0.928\n",
      "epoch:17 | 0.116 - 0.936\n",
      "epoch:18 | 0.116 - 0.946\n"
     ]
    },
    {
     "name": "stderr",
     "output_type": "stream",
     "text": [
      "No handles with labels found to put in legend.\n"
     ]
    },
    {
     "name": "stdout",
     "output_type": "stream",
     "text": [
      "epoch:19 | 0.116 - 0.951\n",
      "============== 7/16 ==============\n",
      "epoch:0 | 0.105 - 0.093\n",
      "epoch:1 | 0.116 - 0.263\n",
      "epoch:2 | 0.116 - 0.479\n",
      "epoch:3 | 0.116 - 0.573\n",
      "epoch:4 | 0.116 - 0.7\n",
      "epoch:5 | 0.116 - 0.78\n",
      "epoch:6 | 0.116 - 0.825\n",
      "epoch:7 | 0.116 - 0.854\n",
      "epoch:8 | 0.116 - 0.878\n",
      "epoch:9 | 0.116 - 0.895\n",
      "epoch:10 | 0.116 - 0.917\n",
      "epoch:11 | 0.116 - 0.933\n",
      "epoch:12 | 0.116 - 0.947\n",
      "epoch:13 | 0.116 - 0.955\n",
      "epoch:14 | 0.116 - 0.963\n",
      "epoch:15 | 0.116 - 0.966\n",
      "epoch:16 | 0.116 - 0.973\n",
      "epoch:17 | 0.116 - 0.974\n",
      "epoch:18 | 0.116 - 0.983\n"
     ]
    },
    {
     "name": "stderr",
     "output_type": "stream",
     "text": [
      "No handles with labels found to put in legend.\n"
     ]
    },
    {
     "name": "stdout",
     "output_type": "stream",
     "text": [
      "epoch:19 | 0.116 - 0.987\n",
      "============== 8/16 ==============\n",
      "epoch:0 | 0.116 - 0.103\n",
      "epoch:1 | 0.117 - 0.382\n",
      "epoch:2 | 0.117 - 0.703\n",
      "epoch:3 | 0.117 - 0.797\n",
      "epoch:4 | 0.116 - 0.827\n",
      "epoch:5 | 0.117 - 0.86\n",
      "epoch:6 | 0.117 - 0.892\n",
      "epoch:7 | 0.116 - 0.92\n",
      "epoch:8 | 0.117 - 0.95\n",
      "epoch:9 | 0.116 - 0.97\n",
      "epoch:10 | 0.117 - 0.98\n",
      "epoch:11 | 0.117 - 0.989\n",
      "epoch:12 | 0.117 - 0.992\n",
      "epoch:13 | 0.117 - 0.992\n",
      "epoch:14 | 0.117 - 0.993\n",
      "epoch:15 | 0.117 - 0.994\n",
      "epoch:16 | 0.117 - 0.996\n",
      "epoch:17 | 0.117 - 0.997\n"
     ]
    },
    {
     "name": "stderr",
     "output_type": "stream",
     "text": [
      "No handles with labels found to put in legend.\n"
     ]
    },
    {
     "name": "stdout",
     "output_type": "stream",
     "text": [
      "epoch:18 | 0.117 - 0.998\n",
      "epoch:19 | 0.117 - 0.997\n",
      "============== 9/16 ==============\n",
      "epoch:0 | 0.1 - 0.112\n",
      "epoch:1 | 0.117 - 0.324\n",
      "epoch:2 | 0.117 - 0.739\n",
      "epoch:3 | 0.117 - 0.824\n",
      "epoch:4 | 0.117 - 0.869\n",
      "epoch:5 | 0.117 - 0.911\n",
      "epoch:6 | 0.117 - 0.941\n",
      "epoch:7 | 0.117 - 0.958\n",
      "epoch:8 | 0.117 - 0.975\n",
      "epoch:9 | 0.117 - 0.986\n",
      "epoch:10 | 0.117 - 0.991\n",
      "epoch:11 | 0.117 - 0.994\n",
      "epoch:12 | 0.117 - 0.999\n",
      "epoch:13 | 0.117 - 0.998\n",
      "epoch:14 | 0.117 - 0.999\n",
      "epoch:15 | 0.117 - 0.999\n",
      "epoch:16 | 0.117 - 0.999\n",
      "epoch:17 | 0.117 - 1.0\n",
      "epoch:18 | 0.117 - 1.0\n",
      "epoch:19 | 0.117 - 1.0\n"
     ]
    },
    {
     "name": "stderr",
     "output_type": "stream",
     "text": [
      "No handles with labels found to put in legend.\n"
     ]
    },
    {
     "name": "stdout",
     "output_type": "stream",
     "text": [
      "============== 10/16 ==============\n",
      "epoch:0 | 0.099 - 0.132\n",
      "epoch:1 | 0.117 - 0.559\n",
      "epoch:2 | 0.117 - 0.789\n",
      "epoch:3 | 0.117 - 0.919\n",
      "epoch:4 | 0.116 - 0.93\n",
      "epoch:5 | 0.117 - 0.955\n",
      "epoch:6 | 0.117 - 0.964\n",
      "epoch:7 | 0.117 - 0.972\n",
      "epoch:8 | 0.117 - 0.968\n",
      "epoch:9 | 0.117 - 0.965\n",
      "epoch:10 | 0.117 - 0.988\n",
      "epoch:11 | 0.117 - 0.993\n",
      "epoch:12 | 0.116 - 0.99\n",
      "epoch:13 | 0.116 - 0.996\n",
      "epoch:14 | 0.116 - 0.997\n",
      "epoch:15 | 0.116 - 0.997\n",
      "epoch:16 | 0.116 - 0.998\n",
      "epoch:17 | 0.116 - 0.998\n"
     ]
    },
    {
     "name": "stderr",
     "output_type": "stream",
     "text": [
      "No handles with labels found to put in legend.\n"
     ]
    },
    {
     "name": "stdout",
     "output_type": "stream",
     "text": [
      "epoch:18 | 0.116 - 0.998\n",
      "epoch:19 | 0.116 - 0.998\n",
      "============== 11/16 ==============\n",
      "epoch:0 | 0.116 - 0.156\n",
      "epoch:1 | 0.116 - 0.557\n",
      "epoch:2 | 0.116 - 0.677\n",
      "epoch:3 | 0.116 - 0.845\n",
      "epoch:4 | 0.116 - 0.783\n",
      "epoch:5 | 0.116 - 0.939\n",
      "epoch:6 | 0.116 - 0.951\n",
      "epoch:7 | 0.116 - 0.966\n",
      "epoch:8 | 0.116 - 0.915\n",
      "epoch:9 | 0.116 - 0.979\n",
      "epoch:10 | 0.116 - 0.982\n",
      "epoch:11 | 0.116 - 0.906\n",
      "epoch:12 | 0.116 - 0.984\n",
      "epoch:13 | 0.116 - 0.988\n",
      "epoch:14 | 0.116 - 0.993\n",
      "epoch:15 | 0.116 - 0.994\n",
      "epoch:16 | 0.116 - 0.995\n",
      "epoch:17 | 0.116 - 0.995\n"
     ]
    },
    {
     "name": "stderr",
     "output_type": "stream",
     "text": [
      "No handles with labels found to put in legend.\n"
     ]
    },
    {
     "name": "stdout",
     "output_type": "stream",
     "text": [
      "epoch:18 | 0.116 - 0.997\n",
      "epoch:19 | 0.116 - 0.998\n",
      "============== 12/16 ==============\n",
      "epoch:0 | 0.093 - 0.115\n",
      "epoch:1 | 0.099 - 0.518\n",
      "epoch:2 | 0.099 - 0.585\n",
      "epoch:3 | 0.117 - 0.656\n",
      "epoch:4 | 0.116 - 0.74\n",
      "epoch:5 | 0.117 - 0.748\n",
      "epoch:6 | 0.117 - 0.703\n",
      "epoch:7 | 0.117 - 0.788\n",
      "epoch:8 | 0.117 - 0.781\n",
      "epoch:9 | 0.116 - 0.783\n",
      "epoch:10 | 0.116 - 0.789\n",
      "epoch:11 | 0.116 - 0.788\n",
      "epoch:12 | 0.116 - 0.78\n",
      "epoch:13 | 0.116 - 0.782\n",
      "epoch:14 | 0.116 - 0.787\n",
      "epoch:15 | 0.116 - 0.792\n",
      "epoch:16 | 0.116 - 0.785\n",
      "epoch:17 | 0.116 - 0.751\n"
     ]
    },
    {
     "name": "stderr",
     "output_type": "stream",
     "text": [
      "No handles with labels found to put in legend.\n"
     ]
    },
    {
     "name": "stdout",
     "output_type": "stream",
     "text": [
      "epoch:18 | 0.116 - 0.771\n",
      "epoch:19 | 0.116 - 0.792\n",
      "============== 13/16 ==============\n",
      "epoch:0 | 0.117 - 0.199\n",
      "epoch:1 | 0.117 - 0.417\n",
      "epoch:2 | 0.117 - 0.345\n",
      "epoch:3 | 0.117 - 0.506\n",
      "epoch:4 | 0.117 - 0.516\n",
      "epoch:5 | 0.117 - 0.505\n",
      "epoch:6 | 0.117 - 0.518\n",
      "epoch:7 | 0.117 - 0.554\n",
      "epoch:8 | 0.117 - 0.562\n",
      "epoch:9 | 0.117 - 0.587\n",
      "epoch:10 | 0.117 - 0.571\n",
      "epoch:11 | 0.117 - 0.549\n",
      "epoch:12 | 0.117 - 0.563\n",
      "epoch:13 | 0.117 - 0.541\n",
      "epoch:14 | 0.117 - 0.507\n",
      "epoch:15 | 0.117 - 0.536\n",
      "epoch:16 | 0.117 - 0.617\n",
      "epoch:17 | 0.117 - 0.622\n"
     ]
    },
    {
     "name": "stderr",
     "output_type": "stream",
     "text": [
      "No handles with labels found to put in legend.\n"
     ]
    },
    {
     "name": "stdout",
     "output_type": "stream",
     "text": [
      "epoch:18 | 0.117 - 0.704\n",
      "epoch:19 | 0.117 - 0.709\n",
      "============== 14/16 ==============\n",
      "epoch:0 | 0.117 - 0.126\n",
      "epoch:1 | 0.117 - 0.311\n",
      "epoch:2 | 0.116 - 0.479\n",
      "epoch:3 | 0.116 - 0.506\n",
      "epoch:4 | 0.116 - 0.51\n",
      "epoch:5 | 0.116 - 0.504\n",
      "epoch:6 | 0.116 - 0.588\n",
      "epoch:7 | 0.116 - 0.593\n",
      "epoch:8 | 0.117 - 0.564\n",
      "epoch:9 | 0.116 - 0.625\n",
      "epoch:10 | 0.116 - 0.642\n",
      "epoch:11 | 0.116 - 0.697\n",
      "epoch:12 | 0.116 - 0.664\n",
      "epoch:13 | 0.117 - 0.675\n",
      "epoch:14 | 0.117 - 0.663\n",
      "epoch:15 | 0.116 - 0.648\n",
      "epoch:16 | 0.116 - 0.668\n",
      "epoch:17 | 0.117 - 0.701\n",
      "epoch:18 | 0.117 - 0.713\n"
     ]
    },
    {
     "name": "stderr",
     "output_type": "stream",
     "text": [
      "No handles with labels found to put in legend.\n"
     ]
    },
    {
     "name": "stdout",
     "output_type": "stream",
     "text": [
      "epoch:19 | 0.117 - 0.711\n",
      "============== 15/16 ==============\n",
      "epoch:0 | 0.1 - 0.166\n",
      "epoch:1 | 0.116 - 0.379\n",
      "epoch:2 | 0.116 - 0.398\n",
      "epoch:3 | 0.116 - 0.401\n",
      "epoch:4 | 0.116 - 0.433\n",
      "epoch:5 | 0.116 - 0.484\n",
      "epoch:6 | 0.116 - 0.461\n",
      "epoch:7 | 0.116 - 0.502\n",
      "epoch:8 | 0.116 - 0.492\n",
      "epoch:9 | 0.116 - 0.504\n",
      "epoch:10 | 0.116 - 0.507\n",
      "epoch:11 | 0.116 - 0.503\n",
      "epoch:12 | 0.116 - 0.493\n",
      "epoch:13 | 0.116 - 0.507\n",
      "epoch:14 | 0.116 - 0.512\n",
      "epoch:15 | 0.116 - 0.515\n",
      "epoch:16 | 0.116 - 0.514\n",
      "epoch:17 | 0.116 - 0.508\n",
      "epoch:18 | 0.116 - 0.515\n"
     ]
    },
    {
     "name": "stderr",
     "output_type": "stream",
     "text": [
      "No handles with labels found to put in legend.\n"
     ]
    },
    {
     "name": "stdout",
     "output_type": "stream",
     "text": [
      "epoch:19 | 0.116 - 0.513\n",
      "============== 16/16 ==============\n",
      "epoch:0 | 0.117 - 0.109\n",
      "epoch:1 | 0.117 - 0.147\n",
      "epoch:2 | 0.116 - 0.306\n",
      "epoch:3 | 0.117 - 0.315\n",
      "epoch:4 | 0.117 - 0.323\n",
      "epoch:5 | 0.117 - 0.323\n",
      "epoch:6 | 0.117 - 0.322\n",
      "epoch:7 | 0.117 - 0.346\n",
      "epoch:8 | 0.117 - 0.415\n",
      "epoch:9 | 0.117 - 0.4\n",
      "epoch:10 | 0.117 - 0.365\n",
      "epoch:11 | 0.117 - 0.376\n",
      "epoch:12 | 0.117 - 0.353\n",
      "epoch:13 | 0.116 - 0.435\n",
      "epoch:14 | 0.117 - 0.431\n",
      "epoch:15 | 0.117 - 0.428\n",
      "epoch:16 | 0.117 - 0.425\n",
      "epoch:17 | 0.117 - 0.432\n",
      "epoch:18 | 0.117 - 0.427\n",
      "epoch:19 | 0.117 - 0.425\n"
     ]
    },
    {
     "data": {
      "image/png": "[encoded data removed]",
      "text/plain": [
       "<Figure size 432x288 with 16 Axes>"
      ]
     },
     "metadata": {
      "needs_background": "light"
     },
     "output_type": "display_data"
    }
   ],
   "source": [
    "# 그래프 그리기==========\n",
    "weight_scale_list = np.logspace(0, -4, num=16)\n",
    "x = np.arange(max_epochs)\n",
    "\n",
    "for i, w in enumerate(weight_scale_list):\n",
    "    print( \"============== \" + str(i+1) + \"/16\" + \" ==============\")\n",
    "    train_acc_list, bn_train_acc_list = __train(w)\n",
    "    \n",
    "    plt.subplot(4,4,i+1)\n",
    "    plt.title(\"W:\" + str(w))\n",
    "    if i == 15:\n",
    "        plt.plot(x, bn_train_acc_list, label='Batch Normalization', markevery=2)\n",
    "        plt.plot(x, train_acc_list, linestyle = \"--\", label='Normal(without BatchNorm)', markevery=2)\n",
    "    else:\n",
    "        plt.plot(x, bn_train_acc_list, markevery=2)\n",
    "        plt.plot(x, train_acc_list, linestyle=\"--\", markevery=2)\n",
    "\n",
    "    plt.ylim(0, 1.0)\n",
    "    if i % 4:\n",
    "        plt.yticks([])\n",
    "    else:\n",
    "        plt.ylabel(\"accuracy\")\n",
    "    if i < 12:\n",
    "        plt.xticks([])\n",
    "    else:\n",
    "        plt.xlabel(\"epochs\")\n",
    "    plt.legend(loc='lower right')\n",
    "    \n",
    "plt.show()"
   ]
  }
 ],
 "metadata": {
  "kernelspec": {
   "display_name": "Python 3",
   "language": "python",
   "name": "python3"
  },
  "language_info": {
   "codemirror_mode": {
    "name": "ipython",
    "version": 3
   },
   "file_extension": ".py",
   "mimetype": "text/x-python",
   "name": "python",
   "nbconvert_exporter": "python",
   "pygments_lexer": "ipython3",
   "version": "3.8.10"
  }
 },
 "nbformat": 4,
 "nbformat_minor": 5
}
